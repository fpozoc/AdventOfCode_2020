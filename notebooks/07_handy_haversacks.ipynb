{
 "cells": [
  {
   "cell_type": "code",
   "execution_count": 1,
   "metadata": {},
   "outputs": [
    {
     "name": "stdout",
     "output_type": "stream",
     "text": [
      "2020-12-09 18:43:36\n"
     ]
    }
   ],
   "source": [
    "import datetime\n",
    "import pandas as pd\n",
    "import numpy as np\n",
    "import collections\n",
    "import re\n",
    "from itertools import permutations\n",
    "\n",
    "print (f'{datetime.datetime.now().strftime(\"%Y-%m-%d %H:%M:%S\")}')"
   ]
  },
  {
   "cell_type": "markdown",
   "metadata": {},
   "source": [
    "**--- Day 7: Handy Haversacks ---**\n",
    "\n",
    "You land at the regional airport in time for your next flight. In fact, it looks like you'll even have time to grab some food: all flights are currently delayed due to issues in luggage processing.\n",
    "\n",
    "Due to recent aviation regulations, many rules (your puzzle input) are being enforced about bags and their contents; bags must be color-coded and must contain specific quantities of other color-coded bags. Apparently, nobody responsible for these regulations considered how long they would take to enforce!\n",
    "\n",
    "For example, consider the following rules:\n",
    "\n",
    "```\n",
    "light red bags contain 1 bright white bag, 2 muted yellow bags.\n",
    "dark orange bags contain 3 bright white bags, 4 muted yellow bags.\n",
    "bright white bags contain 1 shiny gold bag.\n",
    "muted yellow bags contain 2 shiny gold bags, 9 faded blue bags.\n",
    "shiny gold bags contain 1 dark olive bag, 2 vibrant plum bags.\n",
    "dark olive bags contain 3 faded blue bags, 4 dotted black bags.\n",
    "vibrant plum bags contain 5 faded blue bags, 6 dotted black bags.\n",
    "faded blue bags contain no other bags.\n",
    "dotted black bags contain no other bags.\n",
    "```\n",
    "\n",
    "These rules specify the required contents for 9 bag types. In this example, every faded blue bag is empty, every vibrant plum bag contains 11 bags (5 faded blue and 6 dotted black), and so on.\n",
    "\n",
    "You have a shiny gold bag. If you wanted to carry it in at least one other bag, how many different bag colors would be valid for the outermost bag? (In other words: how many colors can, eventually, contain at least one shiny gold bag?)\n",
    "\n",
    "In the above rules, the following options would be available to you:\n",
    "\n",
    "```\n",
    "    A bright white bag, which can hold your shiny gold bag directly.\n",
    "    A muted yellow bag, which can hold your shiny gold bag directly, plus some other bags.\n",
    "    A dark orange bag, which can hold bright white and muted yellow bags, either of which could then hold your shiny gold bag.\n",
    "    A light red bag, which can hold bright white and muted yellow bags, either of which could then hold your shiny gold bag.\n",
    "```\n",
    "\n",
    "So, in this example, the number of bag colors that can eventually contain at least one shiny gold bag is 4.\n",
    "\n",
    "How many bag colors can eventually contain at least one shiny gold bag? (The list of rules is quite long; make sure you get all of it.)\n",
    "\n"
   ]
  },
  {
   "cell_type": "code",
   "execution_count": 295,
   "metadata": {},
   "outputs": [],
   "source": [
    "df = pd.read_csv('../data/data7.tsv', sep='\\t', names=['i'])\n",
    "df = df.replace(np.nan, '')\n",
    "df['color_bag'] = df['i'].str.split('bag').str[0].str.strip()\n",
    "df['bag_contains_1'] = df['i'].str.split('bag').str[1].str.split('contain ').str[1].str.strip()\n",
    "df['bag_contains_2'] = df['i'].str.split('bag').str[2].str.split(', ').str[1].str.strip()\n",
    "df['bag_contains_3'] = df['i'].str.split('bag').str[3].str.split(', ').str[1].str.strip()\n",
    "df['bag_contains_4'] = df['i'].str.split('bag').str[4].str.split(', ').str[1].str.strip()\n",
    "\n",
    "c_shiny_golds = df[df['i'].str.contains('shiny gold')]['color_bag'].values\n",
    "cc_shiny_golds = df[df['i'].str.contains('|'.join(c_shiny_golds))]['color_bag'].values\n",
    "ccc_shiny_golds = df[df['i'].str.contains('|'.join(cc_shiny_golds))]['color_bag'].values\n",
    "cccc_shiny_golds = df[df['i'].str.contains('|'.join(ccc_shiny_golds))]['color_bag'].values\n",
    "ccccc_shiny_golds = df[df['i'].str.contains('|'.join(cccc_shiny_golds))]['color_bag'].values\n",
    "cccccc_shiny_golds = df[df['i'].str.contains('|'.join(ccccc_shiny_golds))]['color_bag'].values\n",
    "ccccccc_shiny_golds = df[df['i'].str.contains('|'.join(cccccc_shiny_golds))]['color_bag'].values\n",
    "cccccccc_shiny_golds = df[df['i'].str.contains('|'.join(ccccccc_shiny_golds))]['color_bag'].values\n",
    "ccccccccc_shiny_golds = df[df['i'].str.contains('|'.join(cccccccc_shiny_golds))]['color_bag'].values\n",
    "final_cc_shiny_golds = df[df['i'].str.contains('|'.join(ccccccccc_shiny_golds))]"
   ]
  },
  {
   "cell_type": "code",
   "execution_count": 242,
   "metadata": {},
   "outputs": [
    {
     "data": {
      "text/plain": [
       "142"
      ]
     },
     "execution_count": 242,
     "metadata": {},
     "output_type": "execute_result"
    }
   ],
   "source": [
    "final_cc_shiny_golds[~final_cc_shiny_golds['color_bag'].str.contains('shiny gold')].shape[0]"
   ]
  },
  {
   "cell_type": "markdown",
   "metadata": {},
   "source": [
    "**--- Part Two ---**\n",
    "\n",
    "It's getting pretty expensive to fly these days - not because of ticket prices, but because of the ridiculous number of bags you need to buy!\n",
    "\n",
    "Consider again your shiny gold bag and the rules from the above example:\n",
    "\n",
    "```\n",
    "    faded blue bags contain 0 other bags.\n",
    "    dotted black bags contain 0 other bags.\n",
    "    vibrant plum bags contain 11 other bags: 5 faded blue bags and 6 dotted black bags.\n",
    "    dark olive bags contain 7 other bags: 3 faded blue bags and 4 dotted black bags.\n",
    "```\n",
    "\n",
    "So, a single shiny gold bag must contain 1 dark olive bag (and the 7 bags within it) plus 2 vibrant plum bags (and the 11 bags within each of those): 1 + 1*7 + 2 + 2*11 = 32 bags!\n",
    "\n",
    "Of course, the actual rules have a small chance of going several levels deeper than this example; be sure to count all of the bags, even if the nesting becomes topologically impractical!\n",
    "\n",
    "Here's another example:\n",
    "\n",
    "```\n",
    "shiny gold bags contain 2 dark red bags.\n",
    "dark red bags contain 2 dark orange bags.\n",
    "dark orange bags contain 2 dark yellow bags.\n",
    "dark yellow bags contain 2 dark green bags.\n",
    "dark green bags contain 2 dark blue bags.\n",
    "dark blue bags contain 2 dark violet bags.\n",
    "dark violet bags contain no other bags.\n",
    "```\n",
    "\n",
    "In this example, a single shiny gold bag must contain 126 other bags.\n",
    "\n",
    "How many individual bags are required inside your single shiny gold bag?"
   ]
  },
  {
   "cell_type": "code",
   "execution_count": 505,
   "metadata": {},
   "outputs": [
    {
     "name": "stdout",
     "output_type": "stream",
     "text": [
      "10219\n"
     ]
    }
   ],
   "source": [
    "data = {}\n",
    "with open(\"../data/data7.tsv\", \"r\") as f:\n",
    "    for line in f:\n",
    "        words = line.split()\n",
    "        description = \" \".join(words[:2])\n",
    "        tail = \" \".join(words[4:])\n",
    "        contents = []\n",
    "        if tail != \"no other bags.\":\n",
    "            for bag in tail.split(\",\"):\n",
    "                words = bag.strip().split(\" \")\n",
    "                contents.append((words[0], \" \".join(words[1:3])))\n",
    "        data[description] = contents\n",
    "        \n",
    "def luggage_content(maleta, data):\n",
    "    rule = data[maleta]\n",
    "    if rule == []:\n",
    "        return []\n",
    "    return [(n, color, luggage_content(color, data)) for n, color in rule]\n",
    "\n",
    "def get_fold(n, l):\n",
    "    total = 0\n",
    "    if l != []:\n",
    "        for n, _, c in l:\n",
    "            total += int(n) * (1 + get_fold(n, c))\n",
    "    return total\n",
    "\n",
    "print(get_fold(1, luggage_content(\"shiny gold\", data)))"
   ]
  }
 ],
 "metadata": {
  "kernelspec": {
   "display_name": "Python 3",
   "language": "python",
   "name": "python3"
  },
  "language_info": {
   "codemirror_mode": {
    "name": "ipython",
    "version": 3
   },
   "file_extension": ".py",
   "mimetype": "text/x-python",
   "name": "python",
   "nbconvert_exporter": "python",
   "pygments_lexer": "ipython3",
   "version": "3.7.7"
  }
 },
 "nbformat": 4,
 "nbformat_minor": 4
}
