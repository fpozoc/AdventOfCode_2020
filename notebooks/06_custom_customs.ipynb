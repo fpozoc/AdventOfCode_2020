{
 "cells": [
  {
   "cell_type": "code",
   "execution_count": 117,
   "metadata": {},
   "outputs": [
    {
     "name": "stdout",
     "output_type": "stream",
     "text": [
      "2020-12-08 23:03:37\n"
     ]
    }
   ],
   "source": [
    "import datetime\n",
    "import pandas as pd\n",
    "import numpy as np\n",
    "import collections\n",
    "import re\n",
    "from itertools import permutations\n",
    "\n",
    "print (f'{datetime.datetime.now().strftime(\"%Y-%m-%d %H:%M:%S\")}')"
   ]
  },
  {
   "cell_type": "markdown",
   "metadata": {},
   "source": [
    "**--- Day 6: Custom Customs ---**\n",
    "\n",
    "As your flight approaches the regional airport where you'll switch to a much larger plane, customs declaration forms are distributed to the passengers.\n",
    "\n",
    "The form asks a series of 26 yes-or-no questions marked a through z. All you need to do is identify the questions for which anyone in your group answers \"yes\". Since your group is just you, this doesn't take very long.\n",
    "\n",
    "However, the person sitting next to you seems to be experiencing a language barrier and asks if you can help. For each of the people in their group, you write down the questions for which they answer \"yes\", one per line. For example:\n",
    "\n",
    "```\n",
    "abcx\n",
    "abcy\n",
    "abcz\n",
    "```\n",
    "\n",
    "In this group, there are 6 questions to which anyone answered \"yes\": a, b, c, x, y, and z. (Duplicate answers to the same question don't count extra; each question counts at most once.)\n",
    "\n",
    "Another group asks for your help, then another, and eventually you've collected answers from every group on the plane (your puzzle input). Each group's answers are separated by a blank line, and within each group, each person's answers are on a single line. For example:\n",
    "                                                                                            \n",
    "```\n",
    "abc\n",
    "\n",
    "a\n",
    "b\n",
    "c\n",
    "\n",
    "ab\n",
    "ac\n",
    "\n",
    "a\n",
    "a\n",
    "a\n",
    "a\n",
    "\n",
    "b\n",
    "```\n",
    "                                                                                            \n",
    "This list represents answers from five groups:\n",
    "\n",
    "    The first group contains one person who answered \"yes\" to 3 questions: a, b, and c.\n",
    "    The second group contains three people; combined, they answered \"yes\" to 3 questions: a, b, and c.\n",
    "    The third group contains two people; combined, they answered \"yes\" to 3 questions: a, b, and c.\n",
    "    The fourth group contains four people; combined, they answered \"yes\" to only 1 question, a.\n",
    "    The last group contains one person who answered \"yes\" to only 1 question, b.\n",
    "\n",
    "In this example, the sum of these counts is 3 + 3 + 3 + 1 + 1 = 11.\n",
    "\n",
    "For each group, count the number of questions to which anyone answered \"yes\". What is the sum of those counts?"
   ]
  },
  {
   "cell_type": "code",
   "execution_count": 31,
   "metadata": {},
   "outputs": [],
   "source": [
    "f = open('../data/data6.tsv')\n",
    "lines = f.readlines()\n",
    "df = pd.DataFrame(' '.join(lines).replace('\\n', '').replace('  ', '\\n').split('\\n'), columns=['id'])"
   ]
  },
  {
   "cell_type": "code",
   "execution_count": 24,
   "metadata": {},
   "outputs": [
    {
     "data": {
      "text/plain": [
       "7110"
      ]
     },
     "execution_count": 24,
     "metadata": {},
     "output_type": "execute_result"
    }
   ],
   "source": [
    "def count_unique_chars(msg:str)->int:\n",
    "    msg = msg.replace(\" \", \"\")\n",
    "    return len(set(msg))\n",
    "df['n_unique_ans'] = [count_unique_chars(seq) for seq in df['id']]\n",
    "df['n_unique_ans'].sum()"
   ]
  },
  {
   "cell_type": "markdown",
   "metadata": {},
   "source": [
    "**--- Part Two ---**\n",
    "\n",
    "As you finish the last group's customs declaration, you notice that you misread one word in the instructions:\n",
    "\n",
    "You don't need to identify the questions to which anyone answered \"yes\"; you need to identify the questions to which everyone answered \"yes\"!\n",
    "\n",
    "Using the same example as above:\n",
    "\n",
    "```\n",
    "abc\n",
    "\n",
    "a\n",
    "b\n",
    "c\n",
    "\n",
    "ab\n",
    "ac\n",
    "\n",
    "a\n",
    "a\n",
    "a\n",
    "a\n",
    "\n",
    "b\n",
    "```\n",
    "\n",
    "This list represents answers from five groups:\n",
    "\n",
    "```\n",
    "    In the first group, everyone (all 1 person) answered \"yes\" to 3 questions: a, b, and c.\n",
    "    In the second group, there is no question to which everyone answered \"yes\".\n",
    "    In the third group, everyone answered yes to only 1 question, a. Since some people did not answer \"yes\" to b or c, they don't count.\n",
    "    In the fourth group, everyone answered yes to only 1 question, a.\n",
    "    In the fifth group, everyone (all 1 person) answered \"yes\" to 1 question, b.\n",
    "```\n",
    "\n",
    "In this example, the sum of these counts is 3 + 0 + 1 + 1 + 1 = 6.\n",
    "\n",
    "For each group, count the number of questions to which everyone answered \"yes\". What is the sum of those counts?"
   ]
  },
  {
   "cell_type": "code",
   "execution_count": 155,
   "metadata": {},
   "outputs": [
    {
     "data": {
      "text/plain": [
       "3628"
      ]
     },
     "execution_count": 155,
     "metadata": {},
     "output_type": "execute_result"
    }
   ],
   "source": [
    "df = pd.DataFrame(' '.join(lines).replace('\\n', '').replace('  ', '\\n').split('\\n'), columns=['id'])\n",
    "df.insert(0, 'idx', df.index + 1)\n",
    "\n",
    "def unique_chars(msg:str)->int:\n",
    "    msg = msg.strip()\n",
    "    msg = msg.replace(\" \", \"\")\n",
    "    return ''.join(list(set(msg)))\n",
    "df = df.set_index('idx')['id'].str.split(' ', expand=True).stack().reset_index(name='id').drop('level_1',1)\n",
    "df = df.iloc[:-1]\n",
    "\n",
    "df['id'] = [unique_chars(seq) for seq in df['id']]\n",
    "df1 = df.copy()\n",
    "df1['size'] = df1.groupby('idx').transform(lambda x: np.size(x))\n",
    "df = df.groupby('idx')['id'].apply(sum)\n",
    "df = pd.merge(df, df1[['idx', 'size']], how='left', on='idx')\n",
    "df = df.drop_duplicates().reset_index(drop=True)\n",
    "\n",
    "def count_answers(msg:str, size:int)->int:\n",
    "    frequencies = collections.Counter(msg)\n",
    "    repeated = {}\n",
    "    for key, value in frequencies.items():\n",
    "        if value >= size:\n",
    "            repeated[key] = value\n",
    "    return len(repeated)\n",
    "\n",
    "df['n_diff_ans'] = [count_answers(seq, size) for seq, size in zip(df['id'], df['size'])]\n",
    "\n",
    "df['n_diff_ans'].sum()"
   ]
  }
 ],
 "metadata": {
  "kernelspec": {
   "display_name": "Python 3",
   "language": "python",
   "name": "python3"
  },
  "language_info": {
   "codemirror_mode": {
    "name": "ipython",
    "version": 3
   },
   "file_extension": ".py",
   "mimetype": "text/x-python",
   "name": "python",
   "nbconvert_exporter": "python",
   "pygments_lexer": "ipython3",
   "version": "3.7.7"
  }
 },
 "nbformat": 4,
 "nbformat_minor": 4
}
