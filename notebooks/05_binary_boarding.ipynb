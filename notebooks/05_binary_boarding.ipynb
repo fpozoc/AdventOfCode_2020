{
 "cells": [
  {
   "cell_type": "code",
   "execution_count": 1,
   "metadata": {},
   "outputs": [
    {
     "name": "stdout",
     "output_type": "stream",
     "text": [
      "2020-12-05 17:10:01\n"
     ]
    }
   ],
   "source": [
    "import datetime\n",
    "import pandas as pd\n",
    "import re\n",
    "from itertools import permutations\n",
    "\n",
    "print (f'{datetime.datetime.now().strftime(\"%Y-%m-%d %H:%M:%S\")}')"
   ]
  },
  {
   "cell_type": "markdown",
   "metadata": {},
   "source": [
    "**--- Day 5: Binary Boarding ---**\n",
    "\n",
    "You board your plane only to discover a new problem: you dropped your boarding pass! You aren't sure which seat is yours, and all of the flight attendants are busy with the flood of people that suddenly made it through passport control.\n",
    "\n",
    "You write a quick program to use your phone's camera to scan all of the nearby boarding passes (your puzzle input); perhaps you can find your seat through process of elimination.\n",
    "\n",
    "Instead of zones or groups, this airline uses binary space partitioning to seat people. A seat might be specified like FBFBBFFRLR, where F means \"front\", B means \"back\", L means \"left\", and R means \"right\".\n",
    "\n",
    "The first 7 characters will either be F or B; these specify exactly one of the 128 rows on the plane (numbered 0 through 127). Each letter tells you which half of a region the given seat is in. Start with the whole list of rows; the first letter indicates whether the seat is in the front (0 through 63) or the back (64 through 127). The next letter indicates which half of that region the seat is in, and so on until you're left with exactly one row.\n",
    "\n",
    "For example, consider just the first seven characters of FBFBBFFRLR:\n",
    "\n",
    "```\n",
    "    Start by considering the whole range, rows 0 through 127.\n",
    "    F means to take the lower half, keeping rows 0 through 63.\n",
    "    B means to take the upper half, keeping rows 32 through 63.\n",
    "    F means to take the lower half, keeping rows 32 through 47.\n",
    "    B means to take the upper half, keeping rows 40 through 47.\n",
    "    B keeps rows 44 through 47.\n",
    "    F keeps rows 44 through 45.\n",
    "    The final F keeps the lower of the two, row 44.\n",
    "```\n",
    "\n",
    "The last three characters will be either L or R; these specify exactly one of the 8 columns of seats on the plane (numbered 0 through 7). The same process as above proceeds again, this time with only three steps. L means to keep the lower half, while R means to keep the upper half.\n",
    "\n",
    "For example, consider just the last 3 characters of FBFBBFFRLR:\n",
    "\n",
    "```\n",
    "    Start by considering the whole range, columns 0 through 7.\n",
    "    R means to take the upper half, keeping columns 4 through 7.\n",
    "    L means to take the lower half, keeping columns 4 through 5.\n",
    "    The final R keeps the upper of the two, column 5.\n",
    "```\n",
    "\n",
    "So, decoding FBFBBFFRLR reveals that it is the seat at row 44, column 5.\n",
    "\n",
    "Every seat also has a unique seat ID: multiply the row by 8, then add the column. In this example, the seat has ID 44 * 8 + 5 = 357.\n",
    "\n",
    "Here are some other boarding passes:\n",
    "\n",
    "```\n",
    "    BFFFBBFRRR: row 70, column 7, seat ID 567.\n",
    "    FFFBBBFRRR: row 14, column 7, seat ID 119.\n",
    "    BBFFBBFRLL: row 102, column 4, seat ID 820.\n",
    "```\n",
    "\n",
    "As a sanity check, look through your list of boarding passes. What is the highest seat ID on a boarding pass?"
   ]
  },
  {
   "cell_type": "code",
   "execution_count": 55,
   "metadata": {},
   "outputs": [],
   "source": [
    "def split(lo, hi):\n",
    "    w2 = (hi - lo)//2\n",
    "    return ((lo, lo + w2), (lo + w2, hi))\n",
    "\n",
    "def binary_search_partitioning_row(psp, lo:int, hi:int)->int:\n",
    "    for i in range(0, len(psp)):\n",
    "        if psp[i] == 'F':\n",
    "            lo, hi = split(lo, hi)[0]\n",
    "        elif psp[i] == 'B':\n",
    "            lo, hi = split(lo, hi)[1]\n",
    "        else:\n",
    "            continue\n",
    "    return lo\n",
    "\n",
    "def binary_search_partitioning_column(psp, lo:int, hi:int)->int:\n",
    "    for i in range(0, len(psp)):\n",
    "        if psp[i] == 'L':\n",
    "            lo, hi = split(lo, hi)[0]\n",
    "        elif psp[i] == 'R':\n",
    "            lo, hi = split(lo, hi)[1]\n",
    "        else:\n",
    "            continue\n",
    "    return lo"
   ]
  },
  {
   "cell_type": "code",
   "execution_count": 57,
   "metadata": {},
   "outputs": [],
   "source": [
    "df = pd.read_csv('../data/data5.tsv', sep='\\t', names='i')\n",
    "df['row'] = [binary_search_partitioning_row(psp, lo=0, hi=128) for psp in df['i']]\n",
    "df['column'] = [binary_search_partitioning_column(psp, lo=0, hi=8) for psp in df['i']]\n",
    "df['seat_id'] = df['row']*8+df['column']\n",
    "df = df.sort_values(by='seat_id', ascending=False)"
   ]
  },
  {
   "cell_type": "markdown",
   "metadata": {},
   "source": [
    "**--- Part Two ---**\n",
    "\n",
    "Ding! The \"fasten seat belt\" signs have turned on. Time to find your seat.\n",
    "\n",
    "It's a completely full flight, so your seat should be the only missing boarding pass in your list. However, there's a catch: some of the seats at the very front and back of the plane don't exist on this aircraft, so they'll be missing from your list as well.\n",
    "\n",
    "Your seat wasn't at the very front or back, though; the seats with IDs +1 and -1 from yours will be in your list."
   ]
  },
  {
   "cell_type": "code",
   "execution_count": 74,
   "metadata": {},
   "outputs": [],
   "source": [
    "def chunks(lst, n):\n",
    "    \"\"\"Yield successive n-sized chunks from lst.\"\"\"\n",
    "    for i in range(0, len(lst), n):\n",
    "        yield lst[i:i + n]"
   ]
  },
  {
   "cell_type": "code",
   "execution_count": 76,
   "metadata": {},
   "outputs": [
    {
     "data": {
      "text/plain": [
       "[array([822, 821, 820, 819, 818, 817, 816, 815, 814, 813]),\n",
       " array([812, 811, 810, 809, 808, 807, 806, 805, 804, 803]),\n",
       " array([802, 801, 800, 799, 798, 797, 796, 795, 794, 793]),\n",
       " array([792, 791, 790, 789, 788, 787, 786, 785, 784, 783]),\n",
       " array([782, 781, 780, 779, 778, 777, 776, 775, 774, 773]),\n",
       " array([772, 771, 770, 769, 768, 767, 766, 765, 764, 763]),\n",
       " array([762, 761, 760, 759, 758, 757, 756, 755, 754, 753]),\n",
       " array([752, 751, 750, 749, 748, 747, 746, 745, 744, 743]),\n",
       " array([742, 741, 740, 739, 738, 737, 736, 735, 734, 733]),\n",
       " array([732, 731, 730, 729, 728, 727, 726, 725, 724, 723]),\n",
       " array([722, 721, 720, 719, 718, 717, 716, 715, 714, 713]),\n",
       " array([712, 711, 710, 709, 708, 707, 706, 704, 703, 702]),\n",
       " array([701, 700, 699, 698, 697, 696, 695, 694, 693, 692]),\n",
       " array([691, 690, 689, 688, 687, 686, 685, 684, 683, 682]),\n",
       " array([681, 680, 679, 678, 677, 676, 675, 674, 673, 672]),\n",
       " array([671, 670, 669, 668, 667, 666, 665, 664, 663, 662]),\n",
       " array([661, 660, 659, 658, 657, 656, 655, 654, 653, 652]),\n",
       " array([651, 650, 649, 648, 647, 646, 645, 644, 643, 642]),\n",
       " array([641, 640, 639, 638, 637, 636, 635, 634, 633, 632]),\n",
       " array([631, 630, 629, 628, 627, 626, 625, 624, 623, 622]),\n",
       " array([621, 620, 619, 618, 617, 616, 615, 614, 613, 612]),\n",
       " array([611, 610, 609, 608, 607, 606, 605, 604, 603, 602]),\n",
       " array([601, 600, 599, 598, 597, 596, 595, 594, 593, 592]),\n",
       " array([591, 590, 589, 588, 587, 586, 585, 584, 583, 582]),\n",
       " array([581, 580, 579, 578, 577, 576, 575, 574, 573, 572]),\n",
       " array([571, 570, 569, 568, 567, 566, 565, 564, 563, 562]),\n",
       " array([561, 560, 559, 558, 557, 556, 555, 554, 553, 552]),\n",
       " array([551, 550, 549, 548, 547, 546, 545, 544, 543, 542]),\n",
       " array([541, 540, 539, 538, 537, 536, 535, 534, 533, 532]),\n",
       " array([531, 530, 529, 528, 527, 526, 525, 524, 523, 522]),\n",
       " array([521, 520, 519, 518, 517, 516, 515, 514, 513, 512]),\n",
       " array([511, 510, 509, 508, 507, 506, 505, 504, 503, 502]),\n",
       " array([501, 500, 499, 498, 497, 496, 495, 494, 493, 492]),\n",
       " array([491, 490, 489, 488, 487, 486, 485, 484, 483, 482]),\n",
       " array([481, 480, 479, 478, 477, 476, 475, 474, 473, 472]),\n",
       " array([471, 470, 469, 468, 467, 466, 465, 464, 463, 462]),\n",
       " array([461, 460, 459, 458, 457, 456, 455, 454, 453, 452]),\n",
       " array([451, 450, 449, 448, 447, 446, 445, 444, 443, 442]),\n",
       " array([441, 440, 439, 438, 437, 436, 435, 434, 433, 432]),\n",
       " array([431, 430, 429, 428, 427, 426, 425, 424, 423, 422]),\n",
       " array([421, 420, 419, 418, 417, 416, 415, 414, 413, 412]),\n",
       " array([411, 410, 409, 408, 407, 406, 405, 404, 403, 402]),\n",
       " array([401, 400, 399, 398, 397, 396, 395, 394, 393, 392]),\n",
       " array([391, 390, 389, 388, 387, 386, 385, 384, 383, 382]),\n",
       " array([381, 380, 379, 378, 377, 376, 375, 374, 373, 372]),\n",
       " array([371, 370, 369, 368, 367, 366, 365, 364, 363, 362]),\n",
       " array([361, 360, 359, 358, 357, 356, 355, 354, 353, 352]),\n",
       " array([351, 350, 349, 348, 347, 346, 345, 344, 343, 342]),\n",
       " array([341, 340, 339, 338, 337, 336, 335, 334, 333, 332]),\n",
       " array([331, 330, 329, 328, 327, 326, 325, 324, 323, 322]),\n",
       " array([321, 320, 319, 318, 317, 316, 315, 314, 313, 312]),\n",
       " array([311, 310, 309, 308, 307, 306, 305, 304, 303, 302]),\n",
       " array([301, 300, 299, 298, 297, 296, 295, 294, 293, 292]),\n",
       " array([291, 290, 289, 288, 287, 286, 285, 284, 283, 282]),\n",
       " array([281, 280, 279, 278, 277, 276, 275, 274, 273, 272]),\n",
       " array([271, 270, 269, 268, 267, 266, 265, 264, 263, 262]),\n",
       " array([261, 260, 259, 258, 257, 256, 255, 254, 253, 252]),\n",
       " array([251, 250, 249, 248, 247, 246, 245, 244, 243, 242]),\n",
       " array([241, 240, 239, 238, 237, 236, 235, 234, 233, 232]),\n",
       " array([231, 230, 229, 228, 227, 226, 225, 224, 223, 222]),\n",
       " array([221, 220, 219, 218, 217, 216, 215, 214, 213, 212]),\n",
       " array([211, 210, 209, 208, 207, 206, 205, 204, 203, 202]),\n",
       " array([201, 200, 199, 198, 197, 196, 195, 194, 193, 192]),\n",
       " array([191, 190, 189, 188, 187, 186, 185, 184, 183, 182]),\n",
       " array([181, 180, 179, 178, 177, 176, 175, 174, 173, 172]),\n",
       " array([171, 170, 169, 168, 167, 166, 165, 164, 163, 162]),\n",
       " array([161, 160, 159, 158, 157, 156, 155, 154, 153, 152]),\n",
       " array([151, 150, 149, 148, 147, 146, 145, 144, 143, 142]),\n",
       " array([141, 140, 139, 138, 137, 136, 135, 134, 133, 132]),\n",
       " array([131, 130, 129, 128, 127, 126, 125, 124, 123, 122]),\n",
       " array([121, 120, 119, 118, 117, 116, 115, 114, 113, 112]),\n",
       " array([111, 110, 109, 108, 107, 106, 105, 104, 103, 102]),\n",
       " array([101, 100,  99,  98,  97,  96,  95,  94,  93,  92]),\n",
       " array([91, 90, 89, 88, 87, 86, 85, 84, 83, 82]),\n",
       " array([81, 80, 79, 78, 77, 76, 75, 74, 73, 72]),\n",
       " array([71, 70, 69, 68, 67, 66, 65, 64, 63, 62]),\n",
       " array([61, 60, 59, 58, 57, 56, 55, 54, 53, 52]),\n",
       " array([51, 50, 49, 48, 47, 46, 45, 44, 43, 42]),\n",
       " array([41, 40, 39, 38, 37, 36, 35, 34, 33, 32]),\n",
       " array([31, 30, 29, 28, 27, 26, 25, 24, 23, 22]),\n",
       " array([21, 20, 19, 18, 17, 16, 15, 14, 13])]"
      ]
     },
     "execution_count": 76,
     "metadata": {},
     "output_type": "execute_result"
    }
   ],
   "source": [
    "list(chunks(df['seat_id'].values, 10))"
   ]
  },
  {
   "cell_type": "markdown",
   "metadata": {},
   "source": [
    "715 is missing!!!! (no algorithms here...it's saturday and I'm tired hehe)"
   ]
  }
 ],
 "metadata": {
  "kernelspec": {
   "display_name": "Python 3",
   "language": "python",
   "name": "python3"
  },
  "language_info": {
   "codemirror_mode": {
    "name": "ipython",
    "version": 3
   },
   "file_extension": ".py",
   "mimetype": "text/x-python",
   "name": "python",
   "nbconvert_exporter": "python",
   "pygments_lexer": "ipython3",
   "version": "3.7.7"
  }
 },
 "nbformat": 4,
 "nbformat_minor": 4
}
